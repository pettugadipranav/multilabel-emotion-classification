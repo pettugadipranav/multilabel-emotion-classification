# 1. Import libraries
import pandas as pd
import matplotlib.pyplot as plt
import seaborn as sns

# 2. Load dataset (adjust path if needed)
df = pd.read_csv("../data/sample.csv")

# 3. Preview data
print("Shape:", df.shape)
df.head()

# 4. Check nulls
print("\nMissing values per column:")
print(df.isnull().sum())

# 5. Emotion label distribution
emotion_labels = ["anger", "fear", "joy", "sadness", "surprise"]
df[emotion_labels].sum().plot(kind="bar", title="Label Distribution")
plt.xlabel("Emotions")
plt.ylabel("Count")
plt.tight_layout()
plt.show()

# 6. Sample text with multiple emotions
multi = df[df[emotion_labels].sum(axis=1) > 1]
print("\nSamples with multiple emotions:")
print(multi[['text'] + emotion_labels].head())

# 7. Average emotions per sample
print("\nAverage number of emotions per input text:", df[emotion_labels].sum(axis=1).mean())
